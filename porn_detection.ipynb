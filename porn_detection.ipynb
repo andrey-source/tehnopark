{
  "nbformat": 4,
  "nbformat_minor": 0,
  "metadata": {
    "kernelspec": {
      "display_name": "Python 3",
      "language": "python",
      "name": "python3"
    },
    "language_info": {
      "codemirror_mode": {
        "name": "ipython",
        "version": 3
      },
      "file_extension": ".py",
      "mimetype": "text/x-python",
      "name": "python",
      "nbconvert_exporter": "python",
      "pygments_lexer": "ipython3",
      "version": "3.8.5"
    },
    "colab": {
      "name": "baseline (2) (1).ipynb",
      "provenance": [],
      "collapsed_sections": []
    },
    "widgets": {
      "application/vnd.jupyter.widget-state+json": {
        "a5faf0410c7448b28ae355ae0288e09e": {
          "model_module": "@jupyter-widgets/controls",
          "model_name": "HBoxModel",
          "model_module_version": "1.5.0",
          "state": {
            "_view_name": "HBoxView",
            "_dom_classes": [],
            "_model_name": "HBoxModel",
            "_view_module": "@jupyter-widgets/controls",
            "_model_module_version": "1.5.0",
            "_view_count": null,
            "_view_module_version": "1.5.0",
            "box_style": "",
            "layout": "IPY_MODEL_a819f388457a4e539d7a642b8946761c",
            "_model_module": "@jupyter-widgets/controls",
            "children": [
              "IPY_MODEL_30a5f1ebc6b04af0a023c52b26ae078d",
              "IPY_MODEL_c2ea5a0a7cef4052966a442d7213d7e8",
              "IPY_MODEL_e774ec91a75a423381fe8851cde58947"
            ]
          }
        },
        "a819f388457a4e539d7a642b8946761c": {
          "model_module": "@jupyter-widgets/base",
          "model_name": "LayoutModel",
          "model_module_version": "1.2.0",
          "state": {
            "_view_name": "LayoutView",
            "grid_template_rows": null,
            "right": null,
            "justify_content": null,
            "_view_module": "@jupyter-widgets/base",
            "overflow": null,
            "_model_module_version": "1.2.0",
            "_view_count": null,
            "flex_flow": null,
            "width": null,
            "min_width": null,
            "border": null,
            "align_items": null,
            "bottom": null,
            "_model_module": "@jupyter-widgets/base",
            "top": null,
            "grid_column": null,
            "overflow_y": null,
            "overflow_x": null,
            "grid_auto_flow": null,
            "grid_area": null,
            "grid_template_columns": null,
            "flex": null,
            "_model_name": "LayoutModel",
            "justify_items": null,
            "grid_row": null,
            "max_height": null,
            "align_content": null,
            "visibility": null,
            "align_self": null,
            "height": null,
            "min_height": null,
            "padding": null,
            "grid_auto_rows": null,
            "grid_gap": null,
            "max_width": null,
            "order": null,
            "_view_module_version": "1.2.0",
            "grid_template_areas": null,
            "object_position": null,
            "object_fit": null,
            "grid_auto_columns": null,
            "margin": null,
            "display": null,
            "left": null
          }
        },
        "30a5f1ebc6b04af0a023c52b26ae078d": {
          "model_module": "@jupyter-widgets/controls",
          "model_name": "HTMLModel",
          "model_module_version": "1.5.0",
          "state": {
            "_view_name": "HTMLView",
            "style": "IPY_MODEL_d3192a767e574c0d9051866ed34992cc",
            "_dom_classes": [],
            "description": "",
            "_model_name": "HTMLModel",
            "placeholder": "​",
            "_view_module": "@jupyter-widgets/controls",
            "_model_module_version": "1.5.0",
            "value": "100%",
            "_view_count": null,
            "_view_module_version": "1.5.0",
            "description_tooltip": null,
            "_model_module": "@jupyter-widgets/controls",
            "layout": "IPY_MODEL_1312713b92b64dd58f8d66957e690201"
          }
        },
        "c2ea5a0a7cef4052966a442d7213d7e8": {
          "model_module": "@jupyter-widgets/controls",
          "model_name": "FloatProgressModel",
          "model_module_version": "1.5.0",
          "state": {
            "_view_name": "ProgressView",
            "style": "IPY_MODEL_8ca51957ccfe49be886cdeaf70655059",
            "_dom_classes": [],
            "description": "",
            "_model_name": "FloatProgressModel",
            "bar_style": "success",
            "max": 27062,
            "_view_module": "@jupyter-widgets/controls",
            "_model_module_version": "1.5.0",
            "value": 27062,
            "_view_count": null,
            "_view_module_version": "1.5.0",
            "orientation": "horizontal",
            "min": 0,
            "description_tooltip": null,
            "_model_module": "@jupyter-widgets/controls",
            "layout": "IPY_MODEL_581b27235b8f468d833e8ee1fde872f8"
          }
        },
        "e774ec91a75a423381fe8851cde58947": {
          "model_module": "@jupyter-widgets/controls",
          "model_name": "HTMLModel",
          "model_module_version": "1.5.0",
          "state": {
            "_view_name": "HTMLView",
            "style": "IPY_MODEL_4430dea9e53d4a1ebd7a8edc053d5ae6",
            "_dom_classes": [],
            "description": "",
            "_model_name": "HTMLModel",
            "placeholder": "​",
            "_view_module": "@jupyter-widgets/controls",
            "_model_module_version": "1.5.0",
            "value": " 27062/27062 [00:00&lt;00:00, 33100.21it/s]",
            "_view_count": null,
            "_view_module_version": "1.5.0",
            "description_tooltip": null,
            "_model_module": "@jupyter-widgets/controls",
            "layout": "IPY_MODEL_f57eb4911add4c4f8c495384d8fc4a0d"
          }
        },
        "d3192a767e574c0d9051866ed34992cc": {
          "model_module": "@jupyter-widgets/controls",
          "model_name": "DescriptionStyleModel",
          "model_module_version": "1.5.0",
          "state": {
            "_view_name": "StyleView",
            "_model_name": "DescriptionStyleModel",
            "description_width": "",
            "_view_module": "@jupyter-widgets/base",
            "_model_module_version": "1.5.0",
            "_view_count": null,
            "_view_module_version": "1.2.0",
            "_model_module": "@jupyter-widgets/controls"
          }
        },
        "1312713b92b64dd58f8d66957e690201": {
          "model_module": "@jupyter-widgets/base",
          "model_name": "LayoutModel",
          "model_module_version": "1.2.0",
          "state": {
            "_view_name": "LayoutView",
            "grid_template_rows": null,
            "right": null,
            "justify_content": null,
            "_view_module": "@jupyter-widgets/base",
            "overflow": null,
            "_model_module_version": "1.2.0",
            "_view_count": null,
            "flex_flow": null,
            "width": null,
            "min_width": null,
            "border": null,
            "align_items": null,
            "bottom": null,
            "_model_module": "@jupyter-widgets/base",
            "top": null,
            "grid_column": null,
            "overflow_y": null,
            "overflow_x": null,
            "grid_auto_flow": null,
            "grid_area": null,
            "grid_template_columns": null,
            "flex": null,
            "_model_name": "LayoutModel",
            "justify_items": null,
            "grid_row": null,
            "max_height": null,
            "align_content": null,
            "visibility": null,
            "align_self": null,
            "height": null,
            "min_height": null,
            "padding": null,
            "grid_auto_rows": null,
            "grid_gap": null,
            "max_width": null,
            "order": null,
            "_view_module_version": "1.2.0",
            "grid_template_areas": null,
            "object_position": null,
            "object_fit": null,
            "grid_auto_columns": null,
            "margin": null,
            "display": null,
            "left": null
          }
        },
        "8ca51957ccfe49be886cdeaf70655059": {
          "model_module": "@jupyter-widgets/controls",
          "model_name": "ProgressStyleModel",
          "model_module_version": "1.5.0",
          "state": {
            "_view_name": "StyleView",
            "_model_name": "ProgressStyleModel",
            "description_width": "",
            "_view_module": "@jupyter-widgets/base",
            "_model_module_version": "1.5.0",
            "_view_count": null,
            "_view_module_version": "1.2.0",
            "bar_color": null,
            "_model_module": "@jupyter-widgets/controls"
          }
        },
        "581b27235b8f468d833e8ee1fde872f8": {
          "model_module": "@jupyter-widgets/base",
          "model_name": "LayoutModel",
          "model_module_version": "1.2.0",
          "state": {
            "_view_name": "LayoutView",
            "grid_template_rows": null,
            "right": null,
            "justify_content": null,
            "_view_module": "@jupyter-widgets/base",
            "overflow": null,
            "_model_module_version": "1.2.0",
            "_view_count": null,
            "flex_flow": null,
            "width": null,
            "min_width": null,
            "border": null,
            "align_items": null,
            "bottom": null,
            "_model_module": "@jupyter-widgets/base",
            "top": null,
            "grid_column": null,
            "overflow_y": null,
            "overflow_x": null,
            "grid_auto_flow": null,
            "grid_area": null,
            "grid_template_columns": null,
            "flex": null,
            "_model_name": "LayoutModel",
            "justify_items": null,
            "grid_row": null,
            "max_height": null,
            "align_content": null,
            "visibility": null,
            "align_self": null,
            "height": null,
            "min_height": null,
            "padding": null,
            "grid_auto_rows": null,
            "grid_gap": null,
            "max_width": null,
            "order": null,
            "_view_module_version": "1.2.0",
            "grid_template_areas": null,
            "object_position": null,
            "object_fit": null,
            "grid_auto_columns": null,
            "margin": null,
            "display": null,
            "left": null
          }
        },
        "4430dea9e53d4a1ebd7a8edc053d5ae6": {
          "model_module": "@jupyter-widgets/controls",
          "model_name": "DescriptionStyleModel",
          "model_module_version": "1.5.0",
          "state": {
            "_view_name": "StyleView",
            "_model_name": "DescriptionStyleModel",
            "description_width": "",
            "_view_module": "@jupyter-widgets/base",
            "_model_module_version": "1.5.0",
            "_view_count": null,
            "_view_module_version": "1.2.0",
            "_model_module": "@jupyter-widgets/controls"
          }
        },
        "f57eb4911add4c4f8c495384d8fc4a0d": {
          "model_module": "@jupyter-widgets/base",
          "model_name": "LayoutModel",
          "model_module_version": "1.2.0",
          "state": {
            "_view_name": "LayoutView",
            "grid_template_rows": null,
            "right": null,
            "justify_content": null,
            "_view_module": "@jupyter-widgets/base",
            "overflow": null,
            "_model_module_version": "1.2.0",
            "_view_count": null,
            "flex_flow": null,
            "width": null,
            "min_width": null,
            "border": null,
            "align_items": null,
            "bottom": null,
            "_model_module": "@jupyter-widgets/base",
            "top": null,
            "grid_column": null,
            "overflow_y": null,
            "overflow_x": null,
            "grid_auto_flow": null,
            "grid_area": null,
            "grid_template_columns": null,
            "flex": null,
            "_model_name": "LayoutModel",
            "justify_items": null,
            "grid_row": null,
            "max_height": null,
            "align_content": null,
            "visibility": null,
            "align_self": null,
            "height": null,
            "min_height": null,
            "padding": null,
            "grid_auto_rows": null,
            "grid_gap": null,
            "max_width": null,
            "order": null,
            "_view_module_version": "1.2.0",
            "grid_template_areas": null,
            "object_position": null,
            "object_fit": null,
            "grid_auto_columns": null,
            "margin": null,
            "display": null,
            "left": null
          }
        },
        "4a234a7cb7b54277bbb1a44f976a6b1c": {
          "model_module": "@jupyter-widgets/controls",
          "model_name": "HBoxModel",
          "model_module_version": "1.5.0",
          "state": {
            "_view_name": "HBoxView",
            "_dom_classes": [],
            "_model_name": "HBoxModel",
            "_view_module": "@jupyter-widgets/controls",
            "_model_module_version": "1.5.0",
            "_view_count": null,
            "_view_module_version": "1.5.0",
            "box_style": "",
            "layout": "IPY_MODEL_6ea73ae2979e44b996842ade77c3e991",
            "_model_module": "@jupyter-widgets/controls",
            "children": [
              "IPY_MODEL_a52df86e2905477ca83755d64ec0c8c9",
              "IPY_MODEL_5f97df5c57144bd6890c2dfe2d2c16ec",
              "IPY_MODEL_0a5bd398641f49e68c630864c42b15e1"
            ]
          }
        },
        "6ea73ae2979e44b996842ade77c3e991": {
          "model_module": "@jupyter-widgets/base",
          "model_name": "LayoutModel",
          "model_module_version": "1.2.0",
          "state": {
            "_view_name": "LayoutView",
            "grid_template_rows": null,
            "right": null,
            "justify_content": null,
            "_view_module": "@jupyter-widgets/base",
            "overflow": null,
            "_model_module_version": "1.2.0",
            "_view_count": null,
            "flex_flow": null,
            "width": null,
            "min_width": null,
            "border": null,
            "align_items": null,
            "bottom": null,
            "_model_module": "@jupyter-widgets/base",
            "top": null,
            "grid_column": null,
            "overflow_y": null,
            "overflow_x": null,
            "grid_auto_flow": null,
            "grid_area": null,
            "grid_template_columns": null,
            "flex": null,
            "_model_name": "LayoutModel",
            "justify_items": null,
            "grid_row": null,
            "max_height": null,
            "align_content": null,
            "visibility": null,
            "align_self": null,
            "height": null,
            "min_height": null,
            "padding": null,
            "grid_auto_rows": null,
            "grid_gap": null,
            "max_width": null,
            "order": null,
            "_view_module_version": "1.2.0",
            "grid_template_areas": null,
            "object_position": null,
            "object_fit": null,
            "grid_auto_columns": null,
            "margin": null,
            "display": null,
            "left": null
          }
        },
        "a52df86e2905477ca83755d64ec0c8c9": {
          "model_module": "@jupyter-widgets/controls",
          "model_name": "HTMLModel",
          "model_module_version": "1.5.0",
          "state": {
            "_view_name": "HTMLView",
            "style": "IPY_MODEL_29d46b83b36645ecab510ff9b5745538",
            "_dom_classes": [],
            "description": "",
            "_model_name": "HTMLModel",
            "placeholder": "​",
            "_view_module": "@jupyter-widgets/controls",
            "_model_module_version": "1.5.0",
            "value": "100%",
            "_view_count": null,
            "_view_module_version": "1.5.0",
            "description_tooltip": null,
            "_model_module": "@jupyter-widgets/controls",
            "layout": "IPY_MODEL_bf0ddb1f386142fd820f4d765fce50e6"
          }
        },
        "5f97df5c57144bd6890c2dfe2d2c16ec": {
          "model_module": "@jupyter-widgets/controls",
          "model_name": "FloatProgressModel",
          "model_module_version": "1.5.0",
          "state": {
            "_view_name": "ProgressView",
            "style": "IPY_MODEL_910ba3e3d82c463d9fc5e56f6fdd0632",
            "_dom_classes": [],
            "description": "",
            "_model_name": "FloatProgressModel",
            "bar_style": "success",
            "max": 108247,
            "_view_module": "@jupyter-widgets/controls",
            "_model_module_version": "1.5.0",
            "value": 108247,
            "_view_count": null,
            "_view_module_version": "1.5.0",
            "orientation": "horizontal",
            "min": 0,
            "description_tooltip": null,
            "_model_module": "@jupyter-widgets/controls",
            "layout": "IPY_MODEL_e7044d80a8c941b490688b7d176d6337"
          }
        },
        "0a5bd398641f49e68c630864c42b15e1": {
          "model_module": "@jupyter-widgets/controls",
          "model_name": "HTMLModel",
          "model_module_version": "1.5.0",
          "state": {
            "_view_name": "HTMLView",
            "style": "IPY_MODEL_7798c7f39e5b40d18e309fa770433eca",
            "_dom_classes": [],
            "description": "",
            "_model_name": "HTMLModel",
            "placeholder": "​",
            "_view_module": "@jupyter-widgets/controls",
            "_model_module_version": "1.5.0",
            "value": " 108247/108247 [00:03&lt;00:00, 36659.48it/s]",
            "_view_count": null,
            "_view_module_version": "1.5.0",
            "description_tooltip": null,
            "_model_module": "@jupyter-widgets/controls",
            "layout": "IPY_MODEL_305b0c54ed3c49fd96b353e68d2ebe40"
          }
        },
        "29d46b83b36645ecab510ff9b5745538": {
          "model_module": "@jupyter-widgets/controls",
          "model_name": "DescriptionStyleModel",
          "model_module_version": "1.5.0",
          "state": {
            "_view_name": "StyleView",
            "_model_name": "DescriptionStyleModel",
            "description_width": "",
            "_view_module": "@jupyter-widgets/base",
            "_model_module_version": "1.5.0",
            "_view_count": null,
            "_view_module_version": "1.2.0",
            "_model_module": "@jupyter-widgets/controls"
          }
        },
        "bf0ddb1f386142fd820f4d765fce50e6": {
          "model_module": "@jupyter-widgets/base",
          "model_name": "LayoutModel",
          "model_module_version": "1.2.0",
          "state": {
            "_view_name": "LayoutView",
            "grid_template_rows": null,
            "right": null,
            "justify_content": null,
            "_view_module": "@jupyter-widgets/base",
            "overflow": null,
            "_model_module_version": "1.2.0",
            "_view_count": null,
            "flex_flow": null,
            "width": null,
            "min_width": null,
            "border": null,
            "align_items": null,
            "bottom": null,
            "_model_module": "@jupyter-widgets/base",
            "top": null,
            "grid_column": null,
            "overflow_y": null,
            "overflow_x": null,
            "grid_auto_flow": null,
            "grid_area": null,
            "grid_template_columns": null,
            "flex": null,
            "_model_name": "LayoutModel",
            "justify_items": null,
            "grid_row": null,
            "max_height": null,
            "align_content": null,
            "visibility": null,
            "align_self": null,
            "height": null,
            "min_height": null,
            "padding": null,
            "grid_auto_rows": null,
            "grid_gap": null,
            "max_width": null,
            "order": null,
            "_view_module_version": "1.2.0",
            "grid_template_areas": null,
            "object_position": null,
            "object_fit": null,
            "grid_auto_columns": null,
            "margin": null,
            "display": null,
            "left": null
          }
        },
        "910ba3e3d82c463d9fc5e56f6fdd0632": {
          "model_module": "@jupyter-widgets/controls",
          "model_name": "ProgressStyleModel",
          "model_module_version": "1.5.0",
          "state": {
            "_view_name": "StyleView",
            "_model_name": "ProgressStyleModel",
            "description_width": "",
            "_view_module": "@jupyter-widgets/base",
            "_model_module_version": "1.5.0",
            "_view_count": null,
            "_view_module_version": "1.2.0",
            "bar_color": null,
            "_model_module": "@jupyter-widgets/controls"
          }
        },
        "e7044d80a8c941b490688b7d176d6337": {
          "model_module": "@jupyter-widgets/base",
          "model_name": "LayoutModel",
          "model_module_version": "1.2.0",
          "state": {
            "_view_name": "LayoutView",
            "grid_template_rows": null,
            "right": null,
            "justify_content": null,
            "_view_module": "@jupyter-widgets/base",
            "overflow": null,
            "_model_module_version": "1.2.0",
            "_view_count": null,
            "flex_flow": null,
            "width": null,
            "min_width": null,
            "border": null,
            "align_items": null,
            "bottom": null,
            "_model_module": "@jupyter-widgets/base",
            "top": null,
            "grid_column": null,
            "overflow_y": null,
            "overflow_x": null,
            "grid_auto_flow": null,
            "grid_area": null,
            "grid_template_columns": null,
            "flex": null,
            "_model_name": "LayoutModel",
            "justify_items": null,
            "grid_row": null,
            "max_height": null,
            "align_content": null,
            "visibility": null,
            "align_self": null,
            "height": null,
            "min_height": null,
            "padding": null,
            "grid_auto_rows": null,
            "grid_gap": null,
            "max_width": null,
            "order": null,
            "_view_module_version": "1.2.0",
            "grid_template_areas": null,
            "object_position": null,
            "object_fit": null,
            "grid_auto_columns": null,
            "margin": null,
            "display": null,
            "left": null
          }
        },
        "7798c7f39e5b40d18e309fa770433eca": {
          "model_module": "@jupyter-widgets/controls",
          "model_name": "DescriptionStyleModel",
          "model_module_version": "1.5.0",
          "state": {
            "_view_name": "StyleView",
            "_model_name": "DescriptionStyleModel",
            "description_width": "",
            "_view_module": "@jupyter-widgets/base",
            "_model_module_version": "1.5.0",
            "_view_count": null,
            "_view_module_version": "1.2.0",
            "_model_module": "@jupyter-widgets/controls"
          }
        },
        "305b0c54ed3c49fd96b353e68d2ebe40": {
          "model_module": "@jupyter-widgets/base",
          "model_name": "LayoutModel",
          "model_module_version": "1.2.0",
          "state": {
            "_view_name": "LayoutView",
            "grid_template_rows": null,
            "right": null,
            "justify_content": null,
            "_view_module": "@jupyter-widgets/base",
            "overflow": null,
            "_model_module_version": "1.2.0",
            "_view_count": null,
            "flex_flow": null,
            "width": null,
            "min_width": null,
            "border": null,
            "align_items": null,
            "bottom": null,
            "_model_module": "@jupyter-widgets/base",
            "top": null,
            "grid_column": null,
            "overflow_y": null,
            "overflow_x": null,
            "grid_auto_flow": null,
            "grid_area": null,
            "grid_template_columns": null,
            "flex": null,
            "_model_name": "LayoutModel",
            "justify_items": null,
            "grid_row": null,
            "max_height": null,
            "align_content": null,
            "visibility": null,
            "align_self": null,
            "height": null,
            "min_height": null,
            "padding": null,
            "grid_auto_rows": null,
            "grid_gap": null,
            "max_width": null,
            "order": null,
            "_view_module_version": "1.2.0",
            "grid_template_areas": null,
            "object_position": null,
            "object_fit": null,
            "grid_auto_columns": null,
            "margin": null,
            "display": null,
            "left": null
          }
        }
      }
    }
  },
  "cells": [
    {
      "cell_type": "markdown",
      "metadata": {
        "id": "JVRyx9TFWPgY"
      },
      "source": [
        "Краткое описание:\n",
        "* Датасет не сбалансирован. Решил дополнить выборку. Удалось найти порно заголовки только на английском. Так исходные заголовки преимущественно на русском воспользовался yandex API Translate. Переводил партиями, ибо очень долго. В итоге удалось напереводить 100к порно заголовков. Большинство исходных данных мало напоминают заголовки, тем не менее наиболее близкое, что удалось найти. Датасет из проекта наташа corpus \"новости rt\". Url -ы удалось найти на  кегл соревновании на классификацию сайтов. Там присутствовали url порно сайтов, но их примерно 36-37к. Т.к. поэтому для 100к примеров urls заполнялись следующим образом: 36к с кегл соревнования; исходные urls (16.7к) + 25к выборка с повторением из исходных и остаток заполнялся урлами с кегла (без повторений). Попробывал предсказать по своей выборке исходную выборку. Все тривиальные преобразования: конкатенация датафреймов, переинования столбцов и тд опущены.\n",
        "\n",
        "* Обработка данных: Заголовки:удалялись лишние, на мой взгляд, символы и числа. Заголовки лемматезировались (использовал наташу,на мой взгляд, работает лучше с русскими словами, чем pymorphy2, в особенности с порно словами. Форма слова выбиралась по наиболее лучшим тегам. Далее из полученных списков токенов удалялись стоп слова и слова короче 2 символов. Пустым строкам присваивалось '#nan'\n",
        " Urls: сплитились по мусорным, на мой взгляд, символам. Удалялись com ru www, а для url с кегла еще и http//:. Каждое слово списка билось на ngram-ы.\n",
        "\n",
        "Функции перевода, обработки закоментированы, т.к. считаются очень долго"
      ]
    },
    {
      "cell_type": "markdown",
      "metadata": {
        "id": "rxPNsXbBWPgb"
      },
      "source": [
        "    https://sexualitics.github.io/ здесь брал порно заголовки\n",
        "    https://www.kaggle.com/shawon10/url-classification-dataset-dmoz - здесь брал урлы"
      ]
    },
    {
      "cell_type": "code",
      "metadata": {
        "colab": {
          "base_uri": "https://localhost:8080/"
        },
        "id": "R9FD7rQ6ibSX",
        "outputId": "38c9ab91-d3b9-40ad-feb4-08a2b9ca39fd"
      },
      "source": [
        "!pip install natasha\n",
        "!pip install catboost\n",
        "!pip install --upgrade gensim"
      ],
      "execution_count": null,
      "outputs": [
        {
          "output_type": "stream",
          "name": "stdout",
          "text": [
            "Collecting natasha\n",
            "  Downloading natasha-1.4.0-py3-none-any.whl (34.4 MB)\n",
            "\u001b[K     |████████████████████████████████| 34.4 MB 29 kB/s \n",
            "\u001b[?25hCollecting pymorphy2\n",
            "  Downloading pymorphy2-0.9.1-py3-none-any.whl (55 kB)\n",
            "\u001b[K     |████████████████████████████████| 55 kB 3.6 MB/s \n",
            "\u001b[?25hCollecting slovnet>=0.3.0\n",
            "  Downloading slovnet-0.5.0-py3-none-any.whl (49 kB)\n",
            "\u001b[K     |████████████████████████████████| 49 kB 5.8 MB/s \n",
            "\u001b[?25hCollecting yargy>=0.14.0\n",
            "  Downloading yargy-0.15.0-py3-none-any.whl (41 kB)\n",
            "\u001b[K     |████████████████████████████████| 41 kB 107 kB/s \n",
            "\u001b[?25hCollecting navec>=0.9.0\n",
            "  Downloading navec-0.10.0-py3-none-any.whl (23 kB)\n",
            "Collecting ipymarkup>=0.8.0\n",
            "  Downloading ipymarkup-0.9.0-py3-none-any.whl (14 kB)\n",
            "Collecting razdel>=0.5.0\n",
            "  Downloading razdel-0.5.0-py3-none-any.whl (21 kB)\n",
            "Collecting intervaltree>=3\n",
            "  Downloading intervaltree-3.1.0.tar.gz (32 kB)\n",
            "Requirement already satisfied: sortedcontainers<3.0,>=2.0 in /usr/local/lib/python3.7/dist-packages (from intervaltree>=3->ipymarkup>=0.8.0->natasha) (2.4.0)\n",
            "Requirement already satisfied: numpy in /usr/local/lib/python3.7/dist-packages (from navec>=0.9.0->natasha) (1.19.5)\n",
            "Collecting pymorphy2-dicts-ru<3.0,>=2.4\n",
            "  Downloading pymorphy2_dicts_ru-2.4.417127.4579844-py2.py3-none-any.whl (8.2 MB)\n",
            "\u001b[K     |████████████████████████████████| 8.2 MB 14.7 MB/s \n",
            "\u001b[?25hCollecting dawg-python>=0.7.1\n",
            "  Downloading DAWG_Python-0.7.2-py2.py3-none-any.whl (11 kB)\n",
            "Requirement already satisfied: docopt>=0.6 in /usr/local/lib/python3.7/dist-packages (from pymorphy2->natasha) (0.6.2)\n",
            "Building wheels for collected packages: intervaltree\n",
            "  Building wheel for intervaltree (setup.py) ... \u001b[?25l\u001b[?25hdone\n",
            "  Created wheel for intervaltree: filename=intervaltree-3.1.0-py2.py3-none-any.whl size=26119 sha256=66be8b38baa5386d20b59207c4983fb31aea70311aa0733d19f3af629c108160\n",
            "  Stored in directory: /root/.cache/pip/wheels/16/85/bd/1001cbb46dcfb71c2001cd7401c6fb250392f22a81ce3722f7\n",
            "Successfully built intervaltree\n",
            "Installing collected packages: pymorphy2-dicts-ru, dawg-python, razdel, pymorphy2, navec, intervaltree, yargy, slovnet, ipymarkup, natasha\n",
            "  Attempting uninstall: intervaltree\n",
            "    Found existing installation: intervaltree 2.1.0\n",
            "    Uninstalling intervaltree-2.1.0:\n",
            "      Successfully uninstalled intervaltree-2.1.0\n",
            "Successfully installed dawg-python-0.7.2 intervaltree-3.1.0 ipymarkup-0.9.0 natasha-1.4.0 navec-0.10.0 pymorphy2-0.9.1 pymorphy2-dicts-ru-2.4.417127.4579844 razdel-0.5.0 slovnet-0.5.0 yargy-0.15.0\n",
            "Collecting catboost\n",
            "  Downloading catboost-1.0.3-cp37-none-manylinux1_x86_64.whl (76.3 MB)\n",
            "\u001b[K     |████████████████████████████████| 76.3 MB 20 kB/s \n",
            "\u001b[?25hRequirement already satisfied: plotly in /usr/local/lib/python3.7/dist-packages (from catboost) (4.4.1)\n",
            "Requirement already satisfied: matplotlib in /usr/local/lib/python3.7/dist-packages (from catboost) (3.2.2)\n",
            "Requirement already satisfied: pandas>=0.24.0 in /usr/local/lib/python3.7/dist-packages (from catboost) (1.1.5)\n",
            "Requirement already satisfied: numpy>=1.16.0 in /usr/local/lib/python3.7/dist-packages (from catboost) (1.19.5)\n",
            "Requirement already satisfied: graphviz in /usr/local/lib/python3.7/dist-packages (from catboost) (0.10.1)\n",
            "Requirement already satisfied: six in /usr/local/lib/python3.7/dist-packages (from catboost) (1.15.0)\n",
            "Requirement already satisfied: scipy in /usr/local/lib/python3.7/dist-packages (from catboost) (1.4.1)\n",
            "Requirement already satisfied: python-dateutil>=2.7.3 in /usr/local/lib/python3.7/dist-packages (from pandas>=0.24.0->catboost) (2.8.2)\n",
            "Requirement already satisfied: pytz>=2017.2 in /usr/local/lib/python3.7/dist-packages (from pandas>=0.24.0->catboost) (2018.9)\n",
            "Requirement already satisfied: cycler>=0.10 in /usr/local/lib/python3.7/dist-packages (from matplotlib->catboost) (0.11.0)\n",
            "Requirement already satisfied: pyparsing!=2.0.4,!=2.1.2,!=2.1.6,>=2.0.1 in /usr/local/lib/python3.7/dist-packages (from matplotlib->catboost) (3.0.6)\n",
            "Requirement already satisfied: kiwisolver>=1.0.1 in /usr/local/lib/python3.7/dist-packages (from matplotlib->catboost) (1.3.2)\n",
            "Requirement already satisfied: retrying>=1.3.3 in /usr/local/lib/python3.7/dist-packages (from plotly->catboost) (1.3.3)\n",
            "Installing collected packages: catboost\n",
            "Successfully installed catboost-1.0.3\n"
          ]
        }
      ]
    },
    {
      "cell_type": "code",
      "metadata": {
        "colab": {
          "base_uri": "https://localhost:8080/"
        },
        "id": "rWlZhU5UinQc",
        "outputId": "2a527df1-5492-406c-992f-122733960af2"
      },
      "source": [
        "from nltk.corpus import stopwords\n",
        "nltk.download('stopwords')"
      ],
      "execution_count": null,
      "outputs": [
        {
          "output_type": "stream",
          "name": "stdout",
          "text": [
            "[nltk_data] Downloading package stopwords to /root/nltk_data...\n",
            "[nltk_data]   Unzipping corpora/stopwords.zip.\n"
          ]
        },
        {
          "output_type": "execute_result",
          "data": {
            "text/plain": [
              "True"
            ]
          },
          "metadata": {},
          "execution_count": 25
        }
      ]
    },
    {
      "cell_type": "code",
      "metadata": {
        "colab": {
          "base_uri": "https://localhost:8080/"
        },
        "id": "zO5ta0L5Y8re",
        "outputId": "86f38ef3-c372-42d7-dd70-c472a350a864"
      },
      "source": [
        "from google.colab import drive\n",
        "drive.mount('/content/drive')"
      ],
      "execution_count": null,
      "outputs": [
        {
          "output_type": "stream",
          "name": "stdout",
          "text": [
            "Mounted at /content/drive\n"
          ]
        }
      ]
    },
    {
      "cell_type": "code",
      "metadata": {
        "id": "Q64t4CB6WPgc"
      },
      "source": [
        "import numpy as np\n",
        "import pandas as pd\n",
        "import warnings\n",
        "from tqdm.notebook import tqdm\n",
        "warnings.filterwarnings('ignore')"
      ],
      "execution_count": null,
      "outputs": []
    },
    {
      "cell_type": "markdown",
      "metadata": {
        "id": "HJI-9B8zrsWX"
      },
      "source": [
        "Процедура перевода порнозаголовков"
      ]
    },
    {
      "cell_type": "code",
      "metadata": {
        "id": "EPO8u0YXWPge"
      },
      "source": [
        "# df_porn = pd.read_csv('xnxx.csv')\n",
        "# df_porn['translation'] = \" \"\n",
        "# feat = {'title', 'translation'}\n",
        "# df_porn = df_porn[feat]\n",
        "# df_porn.head()"
      ],
      "execution_count": null,
      "outputs": []
    },
    {
      "cell_type": "code",
      "metadata": {
        "id": "Qro1JOQSWPgf"
      },
      "source": [
        "# from yandex.Translater import Translater\n",
        "# tr = Translater()\n",
        "# tr.set_key('trnsl.1.1.20211104T223538Z.f24011fa7f0c9f9c.8ba29501f3e9e4b83109f0a3ebffc5ceb0fe859a')\n",
        "# tr.set_from_lang('en')\n",
        "# tr.set_to_lang('ru')\n",
        "\n",
        "# for i in tqdm(range(70000, 100000)):\n",
        "#     tr.set_text(df_porn.title[i])\n",
        "#     df_porn.translation[i] = tr.translate()"
      ],
      "execution_count": null,
      "outputs": []
    },
    {
      "cell_type": "code",
      "metadata": {
        "id": "QhmsnzYVWPgg"
      },
      "source": [
        "# from tqdm.notebook import tqdm\n",
        "# for i in tqdm(range(70000, 100000)):\n",
        "#     tr.set_text(df_porn.title[i])\n",
        "#     df_porn.translation[i] = tr.translate()"
      ],
      "execution_count": null,
      "outputs": []
    },
    {
      "cell_type": "markdown",
      "metadata": {
        "id": "89XLI7ZlWPgh"
      },
      "source": [
        "Токенизация url на ngram"
      ]
    },
    {
      "cell_type": "code",
      "metadata": {
        "id": "QoMNFJvQWPgh"
      },
      "source": [
        "# from nltk.tokenize import SyllableTokenizer\n",
        "# tk = SyllableTokenizer()\n",
        "\n",
        "# def urls_tokenize(df):\n",
        "#     stop_ngram = ['ru', 'com', 'www', '', ' ']\n",
        "#     for i in tqdm(range(df.shape[0])):\n",
        "#         split = re.split('[^A-Za-z0-9]+', df.url[i])\n",
        "#         df.url[i] = [token for token in split if token not in stop_ngram]\n",
        "    \n",
        "#     for i in tqdm(range(df.shape[0])):\n",
        "#         ngrams =[]\n",
        "#         for word in df.url[i]:\n",
        "#             ngrams = ngrams + tk.tokenize(word)\n",
        "#         df.url[i] = ngrams\n",
        "#     return df\n",
        "    "
      ],
      "execution_count": null,
      "outputs": []
    },
    {
      "cell_type": "code",
      "metadata": {
        "id": "jg1U7kmBWPgi"
      },
      "source": [
        "# df = urls_tokenize(df)"
      ],
      "execution_count": null,
      "outputs": []
    },
    {
      "cell_type": "markdown",
      "metadata": {
        "id": "VmXXTqpsWPgi"
      },
      "source": [
        "Токенизация заголоков. Осталяю только буквы, перевожу в нижний регистр. Лемматизирую наташей. Удаляю стоп слова. Удаляю слова короче 2 символов"
      ]
    },
    {
      "cell_type": "code",
      "metadata": {
        "id": "SJ0ld_1jWPgj"
      },
      "source": [
        "# from nltk.corpus import stopwords\n",
        "# from natasha import (\n",
        "#     Segmenter,\n",
        "#     NewsEmbedding,\n",
        "#     NewsMorphTagger, \n",
        "#     MorphVocab,\n",
        "#     Doc,\n",
        "# )\n",
        "# segmenter = Segmenter()\n",
        "# emb = NewsEmbedding()\n",
        "# morph_tagger = NewsMorphTagger(emb)\n",
        "# morph_vocab = MorphVocab()\n",
        "\n",
        "\n",
        "# def preprocessing_data(df):\n",
        "    \n",
        "#     def my_filter(text):\n",
        "#         return re.findall(\"[а-яА-ЯёЁa-zA-Z]+\", text.lower())\n",
        "#     print(\"filter start: \")\n",
        "#     for i in tqdm(range(df.shape[0])):\n",
        "#         df.title[i] = my_filter(df.title[i]);\n",
        "#     print(\"filter finish: \")\n",
        "#     for i in tqdm(range(df.shape[0])):\n",
        "#         string = ' '.join(df.title[i])\n",
        "#         df.title[i] = string\n",
        "    \n",
        "#     def lemmatizer(text):\n",
        "#         doc = Doc(text)\n",
        "#         doc.segment(segmenter)\n",
        "#         doc.tag_morph(morph_tagger)\n",
        "#         for token in doc.tokens:\n",
        "#             token.lemmatize(morph_vocab)\n",
        "#         return [_.lemma for _ in doc.tokens]\n",
        "    \n",
        "#     print(\"lemmatizer start: \")\n",
        "#     for i in tqdm(range(df.shape[0])):\n",
        "#         df.title[i] = lemmatizer(df.title[i])\n",
        "#     print(\"lemmatizer finish:\")\n",
        "    \n",
        "#     print(\"stop words start\")\n",
        "#     for i in tqdm(range(df.shape[0])):\n",
        "#         clear = [token for token in df.title[i] if token not in stopwords.words(['russian', 'english'])]\n",
        "#         df.title[i] = clear\n",
        "#     print(\"stop words finish\")\n",
        "#     print('delete words < 2 start: ')\n",
        "#     for i in tqdm(range(df.shape[0])):\n",
        "#         clear = [token for token in df.title[i] if len(token) > 2 ]\n",
        "#         df.title[i] = clear\n",
        "#     print('delete words < 2 finisha: ')\n",
        "#     return df"
      ],
      "execution_count": null,
      "outputs": []
    },
    {
      "cell_type": "code",
      "metadata": {
        "id": "IZ8_zdSbWPgk"
      },
      "source": [
        "# df = preprocessing_data(df)\n",
        "# df"
      ],
      "execution_count": null,
      "outputs": []
    },
    {
      "cell_type": "markdown",
      "metadata": {
        "id": "JUnTDxutWPgk"
      },
      "source": [
        "# Тестирование собранной выборки"
      ]
    },
    {
      "cell_type": "markdown",
      "metadata": {
        "id": "GuqYktFeWPgl"
      },
      "source": [
        "Оценка качества на исходной выборке. Тестирую только на очищенных данных, тк. в данных коррелированный шум, т.е. после препроцессинга и токенизации"
      ]
    },
    {
      "cell_type": "code",
      "metadata": {
        "id": "qP7j5aybWPgl"
      },
      "source": [
        "from sklearn.metrics import f1_score\n",
        "from ast import literal_eval\n",
        "from sklearn.model_selection import train_test_split\n",
        "from sklearn.feature_extraction.text import TfidfVectorizer\n",
        "from sklearn.feature_extraction.text import CountVectorizer\n",
        "from sklearn.pipeline import Pipeline\n",
        "from sklearn.compose import ColumnTransformer\n",
        "from sklearn.linear_model import LogisticRegression\n",
        "from lightgbm import LGBMClassifier\n",
        "\n",
        "\n",
        "preprocessor = ColumnTransformer([\n",
        "    ('url_tokens', TfidfVectorizer(analyzer='word'), 'url_tokens'),\n",
        "    ('title_tokens', TfidfVectorizer(analyzer='word'), 'title_tokens'),\n",
        "])\n",
        "\n",
        "\n",
        "model = Pipeline([\n",
        "    ('preprocessor', preprocessor),\n",
        "    ('Linear_model', LogisticRegression(class_weight='balanced', C=1))\n",
        "])"
      ],
      "execution_count": null,
      "outputs": []
    },
    {
      "cell_type": "code",
      "metadata": {
        "colab": {
          "base_uri": "https://localhost:8080/"
        },
        "id": "45KoDIVCWPgm",
        "outputId": "76812630-f3c5-458e-8858-1d30ba255ee3"
      },
      "source": [
        "df = pd.read_csv('/content/drive/MyDrive/Tehnopark/porn_data/train_data.csv')\n",
        "df_train, df_test = train_test_split(df, train_size = 0.8, random_state=42)\n",
        "model.fit(df_train, df_train.target)\n",
        "pred_train = model.predict(df_train)\n",
        "pred_test = model.predict(df_test)\n",
        "print(\"pred_train: \", f1_score(df_train.target.values, pred_train))\n",
        "print(\"pred_test: \", f1_score(df_test.target.values, pred_test))"
      ],
      "execution_count": null,
      "outputs": [
        {
          "output_type": "stream",
          "name": "stdout",
          "text": [
            "pred_train:  0.9891970152578238\n",
            "pred_test:  0.9733194216723804\n"
          ]
        }
      ]
    },
    {
      "cell_type": "markdown",
      "metadata": {
        "id": "F2vvc2LqWPgn"
      },
      "source": [
        "Предсказываю моделью обученной на собранной выборке исходную выборку"
      ]
    },
    {
      "cell_type": "code",
      "metadata": {
        "colab": {
          "base_uri": "https://localhost:8080/"
        },
        "id": "M1aqDJAfWPgn",
        "outputId": "4abcbc26-5ae2-4b88-94d6-8768d465f6fc"
      },
      "source": [
        "no_porn_df = pd.read_csv('/content/drive/MyDrive/Tehnopark/porn_data/my_no_porn_data.csv')\n",
        "porn_df = pd.read_csv('/content/drive/MyDrive/Tehnopark/porn_data/my_porn_data.csv')\n",
        "\n",
        "no_porn_df = no_porn_df[{'url_tokens', 'title_tokens', 'target'}]\n",
        "porn_df = porn_df[{'url_tokens', 'title_tokens', 'target'}]\n",
        "df = df[{'url_tokens', 'title_tokens', 'target'}]\n",
        "df_train = pd.concat([porn_df, no_porn_df])\n",
        "\n",
        "model.fit(df_train, df_train.target)\n",
        "pred_train = model.predict(df_train)\n",
        "pred_test = model.predict(df)\n",
        "print(\"pred_train: \", f1_score(df_train.target.values, pred_train))\n",
        "print(\"pred_test: \", f1_score(df.target.values, pred_test))"
      ],
      "execution_count": null,
      "outputs": [
        {
          "output_type": "stream",
          "name": "stdout",
          "text": [
            "pred_train:  0.9983939480359635\n",
            "pred_test:  0.38038847404828435\n"
          ]
        }
      ]
    },
    {
      "cell_type": "markdown",
      "metadata": {
        "id": "coVFuun7WPgo"
      },
      "source": [
        "Вывод: не сложилось. Результаты оч низкие, даже бессмыслено проверять признаки по отдельности"
      ]
    },
    {
      "cell_type": "markdown",
      "metadata": {
        "id": "WenGbOgyWPgo"
      },
      "source": [
        "Проверяю, стоит ли добавлять выборку только порно наблюдениями. Так как на мой взгляд данные очень похожи. Для правдивости эксперимента разыгрываю ситуацию,при которой тестовая выборка соизмерима с тренировочной. "
      ]
    },
    {
      "cell_type": "code",
      "metadata": {
        "colab": {
          "base_uri": "https://localhost:8080/",
          "height": 204
        },
        "id": "wfS7rLsZWPgo",
        "outputId": "1c6af421-b08b-44c6-be61-7c8204695910"
      },
      "source": [
        "df = df[{'url_tokens', 'title_tokens', 'target'}]\n",
        "df.head()"
      ],
      "execution_count": null,
      "outputs": [
        {
          "output_type": "execute_result",
          "data": {
            "text/html": [
              "<div>\n",
              "<style scoped>\n",
              "    .dataframe tbody tr th:only-of-type {\n",
              "        vertical-align: middle;\n",
              "    }\n",
              "\n",
              "    .dataframe tbody tr th {\n",
              "        vertical-align: top;\n",
              "    }\n",
              "\n",
              "    .dataframe thead th {\n",
              "        text-align: right;\n",
              "    }\n",
              "</style>\n",
              "<table border=\"1\" class=\"dataframe\">\n",
              "  <thead>\n",
              "    <tr style=\"text-align: right;\">\n",
              "      <th></th>\n",
              "      <th>target</th>\n",
              "      <th>url_tokens</th>\n",
              "      <th>title_tokens</th>\n",
              "    </tr>\n",
              "  </thead>\n",
              "  <tbody>\n",
              "    <tr>\n",
              "      <th>0</th>\n",
              "      <td>0</td>\n",
              "      <td>m kp md</td>\n",
              "      <td>экс министр экономика молдова глава мидэи цель...</td>\n",
              "    </tr>\n",
              "    <tr>\n",
              "      <th>1</th>\n",
              "      <td>0</td>\n",
              "      <td>kp by</td>\n",
              "      <td>песня стать известный многий телезритель благо...</td>\n",
              "    </tr>\n",
              "    <tr>\n",
              "      <th>2</th>\n",
              "      <td>0</td>\n",
              "      <td>fan se rials tv</td>\n",
              "      <td>банша сезон серия бремя красота смотреть онлайн</td>\n",
              "    </tr>\n",
              "    <tr>\n",
              "      <th>3</th>\n",
              "      <td>0</td>\n",
              "      <td>co lor box spb</td>\n",
              "      <td>бесить картинка</td>\n",
              "    </tr>\n",
              "    <tr>\n",
              "      <th>4</th>\n",
              "      <td>0</td>\n",
              "      <td>tu la sport</td>\n",
              "      <td>новомосковск сыграть следж хоккеист алексински...</td>\n",
              "    </tr>\n",
              "  </tbody>\n",
              "</table>\n",
              "</div>"
            ],
            "text/plain": [
              "   target       url_tokens                                       title_tokens\n",
              "0       0          m kp md  экс министр экономика молдова глава мидэи цель...\n",
              "1       0            kp by  песня стать известный многий телезритель благо...\n",
              "2       0  fan se rials tv    банша сезон серия бремя красота смотреть онлайн\n",
              "3       0   co lor box spb                                    бесить картинка\n",
              "4       0      tu la sport  новомосковск сыграть следж хоккеист алексински..."
            ]
          },
          "metadata": {},
          "execution_count": 11
        }
      ]
    },
    {
      "cell_type": "code",
      "metadata": {
        "id": "n2CuqUDNWPgp"
      },
      "source": [
        "from sklearn.model_selection import train_test_split\n",
        "from ast import literal_eval\n",
        "df_train, df_test = train_test_split(df, random_state=42, train_size=0.40, shuffle = True)"
      ],
      "execution_count": null,
      "outputs": []
    },
    {
      "cell_type": "code",
      "metadata": {
        "colab": {
          "base_uri": "https://localhost:8080/"
        },
        "id": "b5aFXonGWPgp",
        "outputId": "0e5d7bff-0a8f-4f3a-9ab6-9a85a754dd99"
      },
      "source": [
        "preprocessor = ColumnTransformer([\n",
        "    ('url_tokens', TfidfVectorizer(analyzer='word'), 'url_tokens'),\n",
        "    ('title_tokens', TfidfVectorizer(analyzer='word'), 'title_tokens'),\n",
        "])\n",
        "\n",
        "model = Pipeline([\n",
        "    ('preprocessor', preprocessor),\n",
        "    ('Linear_model', LogisticRegression(class_weight='balanced', C=1))\n",
        "])\n",
        "\n",
        "\n",
        "model.fit(df_train, df_train.target)\n",
        "\n",
        "from sklearn.metrics import f1_score\n",
        "pred_train = model.predict(df_train)\n",
        "pred_test = model.predict(df_test)\n",
        "print('train f1_score: ', f1_score(pred_train, df_train.target))\n",
        "print('test f1_score: ', f1_score(pred_test, df_test.target))"
      ],
      "execution_count": null,
      "outputs": [
        {
          "output_type": "stream",
          "name": "stdout",
          "text": [
            "train f1_score:  0.9901169370049038\n",
            "test f1_score:  0.9633502688304642\n"
          ]
        }
      ]
    },
    {
      "cell_type": "markdown",
      "metadata": {
        "id": "GozLo3RsWPgq"
      },
      "source": [
        "Теперь дополню своими данными"
      ]
    },
    {
      "cell_type": "code",
      "metadata": {
        "colab": {
          "base_uri": "https://localhost:8080/",
          "height": 420
        },
        "id": "Cpn5LLf8WPgq",
        "outputId": "ef444647-092d-4db9-8ba3-66de25f3a7d2"
      },
      "source": [
        "df_train = pd.concat([df_train, porn_df], ignore_index = True)\n",
        "df_train"
      ],
      "execution_count": null,
      "outputs": [
        {
          "output_type": "execute_result",
          "data": {
            "text/html": [
              "<div>\n",
              "<style scoped>\n",
              "    .dataframe tbody tr th:only-of-type {\n",
              "        vertical-align: middle;\n",
              "    }\n",
              "\n",
              "    .dataframe tbody tr th {\n",
              "        vertical-align: top;\n",
              "    }\n",
              "\n",
              "    .dataframe thead th {\n",
              "        text-align: right;\n",
              "    }\n",
              "</style>\n",
              "<table border=\"1\" class=\"dataframe\">\n",
              "  <thead>\n",
              "    <tr style=\"text-align: right;\">\n",
              "      <th></th>\n",
              "      <th>target</th>\n",
              "      <th>url_tokens</th>\n",
              "      <th>title_tokens</th>\n",
              "    </tr>\n",
              "  </thead>\n",
              "  <tbody>\n",
              "    <tr>\n",
              "      <th>0</th>\n",
              "      <td>0</td>\n",
              "      <td>go lov bukh ua</td>\n",
              "      <td>позичка автомоб зособь область оподаткуванний</td>\n",
              "    </tr>\n",
              "    <tr>\n",
              "      <th>1</th>\n",
              "      <td>0</td>\n",
              "      <td>mo loc hni sa</td>\n",
              "      <td>тержинан молочница лечение отзыв инструкция</td>\n",
              "    </tr>\n",
              "    <tr>\n",
              "      <th>2</th>\n",
              "      <td>0</td>\n",
              "      <td>blast beat shop</td>\n",
              "      <td>болт барабан dixon pats</td>\n",
              "    </tr>\n",
              "    <tr>\n",
              "      <th>3</th>\n",
              "      <td>0</td>\n",
              "      <td>m ba by blog</td>\n",
              "      <td>казаться грибок запись пользователь мама marin...</td>\n",
              "    </tr>\n",
              "    <tr>\n",
              "      <th>4</th>\n",
              "      <td>0</td>\n",
              "      <td>dom mo da ua</td>\n",
              "      <td>красивый женский блузка кружево купить грн маг...</td>\n",
              "    </tr>\n",
              "    <tr>\n",
              "      <th>...</th>\n",
              "      <td>...</td>\n",
              "      <td>...</td>\n",
              "      <td>...</td>\n",
              "    </tr>\n",
              "    <tr>\n",
              "      <th>154118</th>\n",
              "      <td>1</td>\n",
              "      <td>arc hi balds</td>\n",
              "      <td>сиська связать накачаны</td>\n",
              "    </tr>\n",
              "    <tr>\n",
              "      <th>154119</th>\n",
              "      <td>1</td>\n",
              "      <td>free hard co re porn vi deos pics aa rans free...</td>\n",
              "      <td>горячий блондинка</td>\n",
              "    </tr>\n",
              "    <tr>\n",
              "      <th>154120</th>\n",
              "      <td>1</td>\n",
              "      <td>se xo le</td>\n",
              "      <td>бывший давать голова день</td>\n",
              "    </tr>\n",
              "    <tr>\n",
              "      <th>154121</th>\n",
              "      <td>1</td>\n",
              "      <td>pus sys tri ke</td>\n",
              "      <td>волна унижение джанет</td>\n",
              "    </tr>\n",
              "    <tr>\n",
              "      <th>154122</th>\n",
              "      <td>1</td>\n",
              "      <td>sa dis tic girls</td>\n",
              "      <td>распутный красотка жестко трахаться время заде...</td>\n",
              "    </tr>\n",
              "  </tbody>\n",
              "</table>\n",
              "<p>154123 rows × 3 columns</p>\n",
              "</div>"
            ],
            "text/plain": [
              "        target  ...                                       title_tokens\n",
              "0            0  ...      позичка автомоб зособь область оподаткуванний\n",
              "1            0  ...        тержинан молочница лечение отзыв инструкция\n",
              "2            0  ...                            болт барабан dixon pats\n",
              "3            0  ...  казаться грибок запись пользователь мама marin...\n",
              "4            0  ...  красивый женский блузка кружево купить грн маг...\n",
              "...        ...  ...                                                ...\n",
              "154118       1  ...                            сиська связать накачаны\n",
              "154119       1  ...                                  горячий блондинка\n",
              "154120       1  ...                          бывший давать голова день\n",
              "154121       1  ...                              волна унижение джанет\n",
              "154122       1  ...  распутный красотка жестко трахаться время заде...\n",
              "\n",
              "[154123 rows x 3 columns]"
            ]
          },
          "metadata": {},
          "execution_count": 15
        }
      ]
    },
    {
      "cell_type": "code",
      "metadata": {
        "colab": {
          "base_uri": "https://localhost:8080/"
        },
        "id": "jQHDc8dLWPgq",
        "outputId": "9686d35e-666b-43f3-8516-b1b38828c32d"
      },
      "source": [
        "preprocessor = ColumnTransformer([\n",
        "    ('url_tokens', TfidfVectorizer(analyzer='word'), 'url_tokens'),\n",
        "    ('title_tokens', TfidfVectorizer(analyzer='word'), 'title_tokens'),\n",
        "])\n",
        "\n",
        "model = Pipeline([\n",
        "    ('preprocessor', preprocessor),\n",
        "    ('Linear_model', LogisticRegression(class_weight='balanced', C=1))\n",
        "])\n",
        "\n",
        "\n",
        "model.fit(df_train, df_train.target)\n",
        "\n",
        "from sklearn.metrics import f1_score\n",
        "pred_train = model.predict(df_train)\n",
        "pred_test = model.predict(df_test)\n",
        "print('train f1_score: ', f1_score(pred_train, df_train.target))\n",
        "print('test f1_score: ', f1_score(pred_test, df_test.target))"
      ],
      "execution_count": null,
      "outputs": [
        {
          "output_type": "stream",
          "name": "stdout",
          "text": [
            "train f1_score:  0.9917809772134679\n",
            "test f1_score:  0.9294762898607\n"
          ]
        }
      ]
    },
    {
      "cell_type": "markdown",
      "metadata": {
        "id": "Ksnd5XR-WPgq"
      },
      "source": [
        "Вывод: прироста не дало, к сожалению. Возможно, причина в похожести данных. Например, брались из одного сайта или собираюсь одним алгоритмом, о чем можно судить по коррелированному шуму."
      ]
    },
    {
      "cell_type": "markdown",
      "metadata": {
        "id": "mgz9H9dPcweA"
      },
      "source": [
        "# Модель"
      ]
    },
    {
      "cell_type": "markdown",
      "metadata": {
        "id": "jELpSM7QWPgr"
      },
      "source": [
        "## Ансамбль линейных моделей"
      ]
    },
    {
      "cell_type": "code",
      "metadata": {
        "id": "YMJVC975WPgr"
      },
      "source": [
        "from sklearn.metrics import f1_score\n",
        "from sklearn.model_selection import train_test_split\n",
        "from sklearn.feature_extraction.text import TfidfVectorizer\n",
        "from sklearn.feature_extraction.text import CountVectorizer\n",
        "from sklearn.pipeline import Pipeline\n",
        "from sklearn.compose import ColumnTransformer\n",
        "from sklearn.linear_model import LogisticRegressionCV\n",
        "from sklearn.ensemble import VotingClassifier\n",
        "\n",
        "\n",
        "preprocessor1 = ColumnTransformer([\n",
        "    ('url_tokens', TfidfVectorizer(analyzer='word', dtype = np.float32 ), 'url_tokens'),\n",
        "    ('title_tokens', TfidfVectorizer(analyzer='word', dtype = np.float32), 'title_tokens'),   \n",
        "])\n",
        "preprocessor2 = ColumnTransformer([\n",
        "    ('url_tokens', TfidfVectorizer(analyzer='word', dtype = np.float32), 'url_tokens'),\n",
        "    ('title_tokens', TfidfVectorizer(analyzer='word', dtype = np.float32), 'title_tokens'),   \n",
        "])\n",
        "preprocessor3 = ColumnTransformer([\n",
        "    ('url', CountVectorizer(analyzer='char_wb', ngram_range = (2, 4), dtype = np.float32, max_features=100000), 'url'),\n",
        "    ('title', CountVectorizer(analyzer='char_wb',ngram_range = (2, 4), dtype = np.float32, max_features=100000), 'title')  \n",
        "])\n",
        "preprocessor4 = ColumnTransformer([\n",
        "    ('url', CountVectorizer(analyzer = 'char_wb', ngram_range = (2, 4), dtype = np.float32, max_features=100000), 'url'),   \n",
        "    ('title', CountVectorizer(analyzer = 'char_wb', ngram_range = (2, 4), dtype = np.float32, max_features=100000), 'title')\n",
        "])\n",
        "\n",
        "    \n",
        "\n",
        "\n",
        "model1 = Pipeline([\n",
        "    ('preprocessor', preprocessor1),\n",
        "    ('linear_model', LogisticRegressionCV(class_weight = 'balanced', cv = 3))\n",
        "])\n",
        "model2 = Pipeline([\n",
        "    ('preprocessor', preprocessor2),\n",
        "    ('linear_model', LogisticRegressionCV(class_weight = 'balanced', cv = 3))\n",
        "])\n",
        "model3 = Pipeline([\n",
        "    ('preprocessor', preprocessor3),\n",
        "    ('linear_model', LogisticRegressionCV(class_weight = 'balanced', cv = 3))\n",
        "])\n",
        "model4 = Pipeline([\n",
        "    ('preprocessor', preprocessor4),\n",
        "    ('linear_model', LogisticRegressionCV(class_weight = 'balanced', cv = 3))\n",
        "])\n",
        "\n",
        "\n",
        "ensamble = VotingClassifier(estimators=[('mod1', model1), ('mod2', model2),\n",
        "                                     ('mod3', model3), ('mod4', model4)], voting = 'soft')"
      ],
      "execution_count": null,
      "outputs": []
    },
    {
      "cell_type": "markdown",
      "metadata": {
        "id": "KaQ9z_1rc2r2"
      },
      "source": [
        "Ячейка для теста отдельных моделей"
      ]
    },
    {
      "cell_type": "code",
      "metadata": {
        "id": "jSr8XcO-WPgs"
      },
      "source": [
        "# model = model3\n",
        "# df = pd.read_csv('train_data.csv')\n",
        "# df_train, df_test = train_test_split(df, train_size=0.8, random_state=42, shuffle=True)\n",
        "# y_train = df_train.target.values.astype(np.float32)\n",
        "# y_test = df_test.target.values.astype(np.float32)\n",
        "# model.fit(df_train, y_train)\n",
        "# pred_train = model.predict(df_train)\n",
        "# pred_test = model.predict(df_test)\n",
        "# print('train f1_score: ', f1_score(pred_train, y_train))\n",
        "# print('test f1_score: ', f1_score(pred_test, y_test))"
      ],
      "execution_count": null,
      "outputs": []
    },
    {
      "cell_type": "markdown",
      "metadata": {
        "id": "Czqhg8tyc-Vt"
      },
      "source": [
        "Обучаю ансамбль"
      ]
    },
    {
      "cell_type": "code",
      "metadata": {
        "colab": {
          "base_uri": "https://localhost:8080/"
        },
        "id": "Sc8Xs4YSWPgs",
        "outputId": "8de8c9a2-4bb0-4f32-8eec-6c7f281fe96e"
      },
      "source": [
        "df = pd.read_csv('/content/drive/MyDrive/Tehnopark/porn_data/train_data.csv')\n",
        "df_train, df_test = train_test_split(df, train_size=0.8, random_state=42, shuffle=True)\n",
        "y_train = df_train.target.values.astype(np.float32)\n",
        "y_test = df_test.target.values.astype(np.float32)\n",
        "ensamble.fit(df_train, y_train)\n",
        "pred_train= ensamble.predict(df_train)\n",
        "pred_test = ensamble.predict(df_test)\n",
        "print('train f1_score: ', f1_score(pred_train, y_train))\n",
        "print('test f1_score: ', f1_score(pred_test, y_test))"
      ],
      "execution_count": null,
      "outputs": [
        {
          "output_type": "stream",
          "name": "stdout",
          "text": [
            "train f1_score:  0.9995889540749598\n",
            "test f1_score:  0.9879735417919423\n"
          ]
        }
      ]
    },
    {
      "cell_type": "markdown",
      "metadata": {
        "id": "JSDXMT5WWPgs"
      },
      "source": [
        "## Word2vec + catboost"
      ]
    },
    {
      "cell_type": "code",
      "metadata": {
        "id": "Aq7UyF2mWPgs"
      },
      "source": [
        "from gensim.models import Word2Vec\n",
        "from catboost import CatBoostClassifier\n",
        "\n",
        "def get_dict(df):\n",
        "    df = df.reset_index()\n",
        "    url = []\n",
        "    title = []\n",
        "    for i in tqdm(range(df.shape[0])):\n",
        "        url.append(df.url_tokens[i].split(' '))\n",
        "        title.append(df.title_tokens[i].split(' '))\n",
        "    return {'url': url, 'title': title}\n",
        "\n",
        "def embed_text(text, word2index, word_embeddings):\n",
        "    res = np.array([word_embeddings[word2index[word]] for word in text if word in word2index]).mean(0, keepdims=True)\n",
        "    if res.ndim == 1:\n",
        "        res = word_embeddings.mean(0, keepdims=True)\n",
        "    return res"
      ],
      "execution_count": null,
      "outputs": []
    },
    {
      "cell_type": "code",
      "metadata": {
        "colab": {
          "base_uri": "https://localhost:8080/",
          "height": 81,
          "referenced_widgets": [
            "a5faf0410c7448b28ae355ae0288e09e",
            "a819f388457a4e539d7a642b8946761c",
            "30a5f1ebc6b04af0a023c52b26ae078d",
            "c2ea5a0a7cef4052966a442d7213d7e8",
            "e774ec91a75a423381fe8851cde58947",
            "d3192a767e574c0d9051866ed34992cc",
            "1312713b92b64dd58f8d66957e690201",
            "8ca51957ccfe49be886cdeaf70655059",
            "581b27235b8f468d833e8ee1fde872f8",
            "4430dea9e53d4a1ebd7a8edc053d5ae6",
            "f57eb4911add4c4f8c495384d8fc4a0d",
            "4a234a7cb7b54277bbb1a44f976a6b1c",
            "6ea73ae2979e44b996842ade77c3e991",
            "a52df86e2905477ca83755d64ec0c8c9",
            "5f97df5c57144bd6890c2dfe2d2c16ec",
            "0a5bd398641f49e68c630864c42b15e1",
            "29d46b83b36645ecab510ff9b5745538",
            "bf0ddb1f386142fd820f4d765fce50e6",
            "910ba3e3d82c463d9fc5e56f6fdd0632",
            "e7044d80a8c941b490688b7d176d6337",
            "7798c7f39e5b40d18e309fa770433eca",
            "305b0c54ed3c49fd96b353e68d2ebe40"
          ]
        },
        "id": "4w9NgeU9WPgt",
        "outputId": "3417b15c-8d1f-4b21-eeb1-f5eb9d73bcab"
      },
      "source": [
        "test = get_dict(df_test) \n",
        "train = get_dict(df_train) "
      ],
      "execution_count": null,
      "outputs": [
        {
          "output_type": "display_data",
          "data": {
            "application/vnd.jupyter.widget-view+json": {
              "model_id": "a5faf0410c7448b28ae355ae0288e09e",
              "version_minor": 0,
              "version_major": 2
            },
            "text/plain": [
              "  0%|          | 0/27062 [00:00<?, ?it/s]"
            ]
          },
          "metadata": {}
        },
        {
          "output_type": "display_data",
          "data": {
            "application/vnd.jupyter.widget-view+json": {
              "model_id": "4a234a7cb7b54277bbb1a44f976a6b1c",
              "version_minor": 0,
              "version_major": 2
            },
            "text/plain": [
              "  0%|          | 0/108247 [00:00<?, ?it/s]"
            ]
          },
          "metadata": {}
        }
      ]
    },
    {
      "cell_type": "code",
      "metadata": {
        "id": "78iK4jDXWPgt"
      },
      "source": [
        "word2vec_url = Word2Vec(size=50, sg=0, window=5, min_count=2, negative=10)\n",
        "word2vec_url.build_vocab(train['url'])\n",
        "word2vec_url.train(train['url'], total_examples=word2vec_url.corpus_count, epochs=30)\n",
        "embeddings_url = word2vec_url.wv.vectors\n",
        "word2index_url = {word: i for i, word in enumerate(word2vec_url.wv.index2word)}\n",
        "train_embedings_url = np.concatenate([embed_text(doc, word2index_url, embeddings_url) for doc in train['url']])\n",
        "test_embedings_url = np.concatenate([embed_text(doc, word2index_url, embeddings_url) for doc in test['url']])"
      ],
      "execution_count": null,
      "outputs": []
    },
    {
      "cell_type": "code",
      "metadata": {
        "colab": {
          "base_uri": "https://localhost:8080/"
        },
        "id": "0G3MaVJrWPgt",
        "outputId": "488cdedf-f9b2-4a44-9723-f0ec7856d4a7"
      },
      "source": [
        "word2vec_url.wv.most_similar('porn')"
      ],
      "execution_count": null,
      "outputs": [
        {
          "output_type": "execute_result",
          "data": {
            "text/plain": [
              "[('noxxx', 0.43063783645629883),\n",
              " ('hle', 0.38666531443595886),\n",
              " ('porns', 0.37019485235214233),\n",
              " ('jav', 0.3686683475971222),\n",
              " ('viesxxx', 0.3616902530193329),\n",
              " ('s24', 0.35834482312202454),\n",
              " ('dels', 0.3566586375236511),\n",
              " ('uh', 0.3531017303466797),\n",
              " ('snes', 0.3511388897895813),\n",
              " ('dy', 0.3484186828136444)]"
            ]
          },
          "metadata": {},
          "execution_count": 43
        }
      ]
    },
    {
      "cell_type": "code",
      "metadata": {
        "id": "epDOZj9pWPgu"
      },
      "source": [
        "word2vec_title = Word2Vec(size=200, sg=0, window=5, min_count=2, negative=10)\n",
        "word2vec_title.build_vocab(train['title'])\n",
        "word2vec_title.train(train['title'], total_examples=word2vec_title.corpus_count, epochs=30)\n",
        "embeddings_title = word2vec_title.wv.vectors\n",
        "word2index_title = {word: i for i, word in enumerate(word2vec_title.wv.index2word)}\n",
        "train_embedings_title = np.concatenate([embed_text(doc, word2index_title, embeddings_title) for doc in train['title']])\n",
        "test_embedings_title = np.concatenate([embed_text(doc, word2index_title, embeddings_title) for doc in test['title']])"
      ],
      "execution_count": null,
      "outputs": []
    },
    {
      "cell_type": "code",
      "metadata": {
        "colab": {
          "base_uri": "https://localhost:8080/"
        },
        "id": "MZULjLMxWPgu",
        "outputId": "57bab47f-e67d-4e28-c1b0-52439f5cda19"
      },
      "source": [
        "word2vec_title.wv.most_similar('фильм')"
      ],
      "execution_count": null,
      "outputs": [
        {
          "output_type": "execute_result",
          "data": {
            "text/plain": [
              "[('мультфильм', 0.5510241389274597),\n",
              " ('драма', 0.5314066410064697),\n",
              " ('кино', 0.5033471584320068),\n",
              " ('дорамы', 0.4639444053173065),\n",
              " ('боевик', 0.4614221751689911),\n",
              " ('комедия', 0.4448634684085846),\n",
              " ('актриса', 0.44398877024650574),\n",
              " ('вильгельм', 0.44392889738082886),\n",
              " ('сериал', 0.44200602173805237),\n",
              " ('джессика', 0.4407733976840973)]"
            ]
          },
          "metadata": {},
          "execution_count": 46
        }
      ]
    },
    {
      "cell_type": "code",
      "metadata": {
        "id": "uCrkveJ3WPgu"
      },
      "source": [
        "x_train = np.hstack([train_embedings_title, train_embedings_url])\n",
        "x_test = np.hstack([test_embedings_title, test_embedings_url])"
      ],
      "execution_count": null,
      "outputs": []
    },
    {
      "cell_type": "code",
      "metadata": {
        "colab": {
          "base_uri": "https://localhost:8080/"
        },
        "id": "nAKCNOCuWPgu",
        "outputId": "9468ab8e-4c1a-436c-bdcb-f50daddd5621"
      },
      "source": [
        "boost_model = CatBoostClassifier(random_seed=42)\n",
        "boost_model.fit(x_train, y_train, verbose = False)\n",
        "pred_train = boost_model.predict(x_train)\n",
        "pred_test = boost_model.predict(x_test)\n",
        "print('train f1_score: ', f1_score(pred_train, y_train))\n",
        "print('test f1_score: ', f1_score(pred_test, y_test))"
      ],
      "execution_count": null,
      "outputs": [
        {
          "output_type": "stream",
          "name": "stdout",
          "text": [
            "train f1_score:  0.9962501874906254\n",
            "test f1_score:  0.9725158562367865\n"
          ]
        }
      ]
    },
    {
      "cell_type": "code",
      "metadata": {
        "colab": {
          "base_uri": "https://localhost:8080/"
        },
        "id": "LdAfJOxpWPgu",
        "outputId": "61774c66-2a1b-47cb-9610-f6c6c491c496"
      },
      "source": [
        "p_train_boost = boost_model.predict_proba(x_train)\n",
        "p_test_boost = boost_model.predict_proba(x_test)\n",
        "ensamble_train = ensamble.predict_proba(df_train)\n",
        "ensamble_test = ensamble.predict_proba(df_test)\n",
        "res_train = p_train_boost * 0.3 + 0.7 * ensamble_train\n",
        "res_test = p_test_boost * 0.3 + 0.7 *ensamble_test\n",
        "finaly_train = np.argmax(res_train, axis = 1)\n",
        "finaly_test = np.argmax(res_test, axis = 1)\n",
        "print('train f1_score: ', f1_score(finaly_train, y_train))\n",
        "print('test f1_score: ', f1_score(finaly_test, y_test))"
      ],
      "execution_count": null,
      "outputs": [
        {
          "output_type": "stream",
          "name": "stdout",
          "text": [
            "train f1_score:  0.9995515359892369\n",
            "test f1_score:  0.9862931164331977\n"
          ]
        }
      ]
    },
    {
      "cell_type": "markdown",
      "metadata": {
        "id": "lwygAjRbWPgv"
      },
      "source": [
        "Обучаю на всех данных"
      ]
    },
    {
      "cell_type": "code",
      "metadata": {
        "id": "jsv6FVFPWPgv"
      },
      "source": [
        "df = pd.read_csv('/content/drive/MyDrive/Tehnopark/porn_data/train_data.csv')\n",
        "df_ = pd.read_csv('/content/drive/MyDrive/Tehnopark/porn_data/test_data.csv')\n",
        "y_train = df.target.values.astype(np.float32)\n",
        "order = {'url', 'url_tokens', 'title', 'title_tokens'}\n",
        "df = df[order]\n",
        "df_ = df_[order]"
      ],
      "execution_count": null,
      "outputs": []
    },
    {
      "cell_type": "code",
      "metadata": {
        "colab": {
          "base_uri": "https://localhost:8080/"
        },
        "id": "qn9C3TAKWPgv",
        "outputId": "1f453f74-5ad3-4ab9-9c9d-064f532aae26"
      },
      "source": [
        "ensamble.fit(df, y_train)\n",
        "pred_train = ensamble.predict(df)\n",
        "pred_test = ensamble.predict(df_)\n",
        "print('train f1_score: ', f1_score(pred_train, y_train))"
      ],
      "execution_count": null,
      "outputs": [
        {
          "output_type": "stream",
          "name": "stdout",
          "text": [
            "train f1_score:  0.9995813897859108\n"
          ]
        }
      ]
    },
    {
      "cell_type": "code",
      "metadata": {
        "id": "zLYcaQmWWPgw"
      },
      "source": [
        "submit = pd.read_csv('/content/drive/MyDrive/Tehnopark/porn_data/test_data.csv')\n",
        "submit = submit.iloc[:, :1]\n",
        "submit['target'] = pred_test.astype(bool)\n",
        "submit.to_csv('/content/drive/MyDrive/Tehnopark/porn_data/submit.csv', index = False)"
      ],
      "execution_count": null,
      "outputs": []
    },
    {
      "cell_type": "code",
      "metadata": {
        "id": "_QBxquu0WPgw"
      },
      "source": [
        "test = get_dict(df_) \n",
        "train = get_dict(df)\n",
        "\n",
        "word2vec_url = Word2Vec(size=100, sg=0, window=5, min_count=2, negative=10)\n",
        "word2vec_url.build_vocab(train['url'])\n",
        "word2vec_url.train(train['url'], total_examples=word2vec_url.corpus_count, epochs=30)\n",
        "embeddings_url = word2vec_url.wv.vectors\n",
        "word2index_url = {word: i for i, word in enumerate(word2vec_url.wv.index2word)}\n",
        "train_embedings_url = np.concatenate([embed_text(doc, word2index_url, embeddings_url) for doc in train['url']])\n",
        "test_embedings_url = np.concatenate([embed_text(doc, word2index_url, embeddings_url) for doc in test['url']])\n",
        "\n",
        "\n",
        "word2vec_title = Word2Vec(size=200, sg=0, window=5, min_count=2, negative=10)\n",
        "word2vec_title.build_vocab(train['title'])\n",
        "word2vec_title.train(train['title'], total_examples=word2vec_title.corpus_count, epochs=30)\n",
        "embeddings_title = word2vec_title.wv.vectors\n",
        "word2index_title = {word: i for i, word in enumerate(word2vec_title.wv.index2word)}\n",
        "train_embedings_title = np.concatenate([embed_text(doc, word2index_title, embeddings_title) for doc in train['title']])\n",
        "test_embedings_title = np.concatenate([embed_text(doc, word2index_title, embeddings_title) for doc in test['title']])\n",
        "\n",
        "x_train = np.hstack([train_embedings_title, train_embedings_url])\n",
        "x_test = np.hstack([test_embedings_title, test_embedings_url])"
      ],
      "execution_count": null,
      "outputs": []
    },
    {
      "cell_type": "code",
      "metadata": {
        "colab": {
          "base_uri": "https://localhost:8080/"
        },
        "id": "Tm40xcI3WPgx",
        "outputId": "078042e4-441d-47c8-abad-8248032ef663"
      },
      "source": [
        "boost_model = CatBoostClassifier(random_seed=42)\n",
        "boost_model.fit(x_train, y_train, verbose = False)\n",
        "boost_pred_train = boost_model.predict(x_train)\n",
        "print('train f1_score: ', f1_score(boost_pred_train, y_train))"
      ],
      "execution_count": null,
      "outputs": [
        {
          "output_type": "stream",
          "name": "stdout",
          "text": [
            "train f1_score:  0.996158693955945\n"
          ]
        }
      ]
    },
    {
      "cell_type": "code",
      "metadata": {
        "colab": {
          "base_uri": "https://localhost:8080/"
        },
        "id": "HQSRglVEWPgx",
        "outputId": "38b33db0-610c-4d0c-cd24-74582f5c962b"
      },
      "source": [
        "ensamble_train_p = ensamble.predict_proba(df)\n",
        "ensamble_test_p = ensamble.predict_proba(df_)\n",
        "\n",
        "p_train_boost = boost_model.predict_proba(x_train)\n",
        "p_test_boost = boost_model.predict_proba(x_test)\n",
        "\n",
        "\n",
        "res_train = p_train_boost * 0.3 + 0.7 * ensamble_train_p\n",
        "res_test = p_test_boost * 0.3 + 0.7 * ensamble_test_p\n",
        "\n",
        "finaly_train = np.argmax(res_train, axis = 1)\n",
        "finaly_test = np.argmax(res_test, axis = 1)\n",
        "print('train f1_score: ', f1_score(finaly_train, y_train))"
      ],
      "execution_count": null,
      "outputs": [
        {
          "output_type": "stream",
          "name": "stdout",
          "text": [
            "train f1_score:  0.9995514219922844\n"
          ]
        }
      ]
    },
    {
      "cell_type": "code",
      "metadata": {
        "id": "PddeF6M5WPgx"
      },
      "source": [
        "submit = pd.read_csv('/content/drive/MyDrive/Tehnopark/porn_data/test_data.csv')\n",
        "submit = submit.iloc[:, :1]\n",
        "submit['target'] = finaly_test.astype(bool)\n",
        "submit.to_csv('submit2.csv', index = False)"
      ],
      "execution_count": null,
      "outputs": []
    }
  ]
}